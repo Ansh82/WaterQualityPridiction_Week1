{
 "cells": [
  {
   "cell_type": "code",
   "execution_count": 6,
   "id": "a8aa77b4-3321-443e-9cec-66733dfc70da",
   "metadata": {},
   "outputs": [],
   "source": [
    "import pandas as pd #dataframe manipulation\n",
    "import numpy as np #numerical operations\n",
    "from sklearn.multioutput import MultiOutputRegressor #multi-output regression,implementing multiple models \n",
    "from sklearn.ensemble import RandomForestRegressor #random forest regressor\n",
    "from sklearn.model_selection import train_test_split #train-test split\n",
    "from sklearn.metrics import mean_squared_error, r2_score #evaluation metrics \n"
   ]
  },
  {
   "cell_type": "code",
   "execution_count": 10,
   "id": "778bfdcd-5512-48cc-8851-e72e9bcaf4e7",
   "metadata": {},
   "outputs": [
    {
     "name": "stdout",
     "output_type": "stream",
     "text": [
      "      id        date    NH4  BSK5  Suspended     O2    NO3    NO2     SO4  \\\n",
      "0      1  17.02.2000  0.330  2.77       12.0  12.30   9.50  0.057  154.00   \n",
      "1      1  11.05.2000  0.044  3.00       51.6  14.61  17.75  0.034  352.00   \n",
      "2      1  11.09.2000  0.032  2.10       24.5   9.87  13.80  0.173  416.00   \n",
      "3      1  13.12.2000  0.170  2.23       35.6  12.40  17.13  0.099  275.20   \n",
      "4      1  02.03.2001  0.000  3.03       48.8  14.69  10.00  0.065  281.60   \n",
      "...   ..         ...    ...   ...        ...    ...    ...    ...     ...   \n",
      "2856  22  06.10.2020  0.046  2.69        3.6   8.28   3.80  0.038  160.00   \n",
      "2857  22  27.10.2020  0.000  1.52        0.5  11.26   0.56  0.031  147.20   \n",
      "2858  22  03.12.2020  0.034  0.29        0.8  11.09   2.58  0.042  209.92   \n",
      "2859  22  12.01.2021  0.000  2.10        0.0  14.31   3.94  0.034  121.60   \n",
      "2860  22  10.02.2021  0.000  1.78        0.0  14.30   6.30  0.033  134.40   \n",
      "\n",
      "        PO4       CL  \n",
      "0     0.454   289.50  \n",
      "1     0.090  1792.00  \n",
      "2     0.200  2509.00  \n",
      "3     0.377  1264.00  \n",
      "4     0.134  1462.00  \n",
      "...     ...      ...  \n",
      "2856  0.726    77.85  \n",
      "2857  0.634    71.95  \n",
      "2858  0.484    61.17  \n",
      "2859  0.424    63.49  \n",
      "2860  0.582    66.31  \n",
      "\n",
      "[2861 rows x 11 columns]\n"
     ]
    }
   ],
   "source": [
    "df =pd.read_csv('PB_ALL_2000_2021.csv',sep=';') #load dataset\n",
    "print(df)"
   ]
  },
  {
   "cell_type": "code",
   "execution_count": 12,
   "id": "98f21318-6c73-44fe-a5f9-02590b71ad76",
   "metadata": {},
   "outputs": [
    {
     "name": "stdout",
     "output_type": "stream",
     "text": [
      "<class 'pandas.core.frame.DataFrame'>\n",
      "RangeIndex: 2861 entries, 0 to 2860\n",
      "Data columns (total 11 columns):\n",
      " #   Column     Non-Null Count  Dtype  \n",
      "---  ------     --------------  -----  \n",
      " 0   id         2861 non-null   int64  \n",
      " 1   date       2861 non-null   object \n",
      " 2   NH4        2858 non-null   float64\n",
      " 3   BSK5       2860 non-null   float64\n",
      " 4   Suspended  2845 non-null   float64\n",
      " 5   O2         2858 non-null   float64\n",
      " 6   NO3        2860 non-null   float64\n",
      " 7   NO2        2858 non-null   float64\n",
      " 8   SO4        2812 non-null   float64\n",
      " 9   PO4        2833 non-null   float64\n",
      " 10  CL         2812 non-null   float64\n",
      "dtypes: float64(9), int64(1), object(1)\n",
      "memory usage: 246.0+ KB\n",
      "(2861, 11)\n",
      "            count       mean         std   min      25%     50%       75%  \\\n",
      "id         2861.0  12.397064    6.084226  1.00   8.0000  14.000  16.00000   \n",
      "NH4        2858.0   0.758734    2.486247  0.00   0.0800   0.220   0.50000   \n",
      "BSK5       2860.0   4.316182    2.973997  0.00   2.1600   3.800   5.80000   \n",
      "Suspended  2845.0  12.931905   16.543097  0.00   6.0000  10.000  15.00000   \n",
      "O2         2858.0   9.508902    4.428260  0.00   7.0925   8.995  11.52000   \n",
      "NO3        2860.0   4.316846    6.881188  0.00   1.3900   2.800   5.58250   \n",
      "NO2        2858.0   0.246128    2.182777  0.00   0.0300   0.059   0.12575   \n",
      "SO4        2812.0  59.362313   96.582641  0.00  27.0525  37.800  64.64000   \n",
      "PO4        2833.0   0.418626    0.771326  0.00   0.1300   0.270   0.47000   \n",
      "CL         2812.0  93.731991  394.512184  0.02  26.8000  33.900  45.60750   \n",
      "\n",
      "                max  \n",
      "id           22.000  \n",
      "NH4          39.427  \n",
      "BSK5         50.900  \n",
      "Suspended   595.000  \n",
      "O2           90.000  \n",
      "NO3         133.400  \n",
      "NO2         109.000  \n",
      "SO4        3573.400  \n",
      "PO4          13.879  \n",
      "CL         5615.280  \n"
     ]
    }
   ],
   "source": [
    "df.info()# print dataset info\n",
    "print(df.shape)\n",
    "print(df.describe().T)# print dataset description and convert rows to columns\n"
   ]
  },
  {
   "cell_type": "code",
   "execution_count": 14,
   "id": "6f29fd64-8b51-463a-9cab-0d9cad92c595",
   "metadata": {},
   "outputs": [
    {
     "name": "stdout",
     "output_type": "stream",
     "text": [
      "id            0\n",
      "date          0\n",
      "NH4           3\n",
      "BSK5          1\n",
      "Suspended    16\n",
      "O2            3\n",
      "NO3           1\n",
      "NO2           3\n",
      "SO4          49\n",
      "PO4          28\n",
      "CL           49\n",
      "dtype: int64\n"
     ]
    }
   ],
   "source": [
    "# mising values\n",
    "print(df.isnull().sum()) # print missing values in each column\n"
   ]
  },
  {
   "cell_type": "code",
   "execution_count": 16,
   "id": "12e7fb52-88c8-4f8a-b542-01f74f1cb02b",
   "metadata": {},
   "outputs": [
    {
     "name": "stdout",
     "output_type": "stream",
     "text": [
      "<class 'pandas.core.frame.DataFrame'>\n",
      "RangeIndex: 2861 entries, 0 to 2860\n",
      "Data columns (total 11 columns):\n",
      " #   Column     Non-Null Count  Dtype         \n",
      "---  ------     --------------  -----         \n",
      " 0   id         2861 non-null   int64         \n",
      " 1   date       2861 non-null   datetime64[ns]\n",
      " 2   NH4        2858 non-null   float64       \n",
      " 3   BSK5       2860 non-null   float64       \n",
      " 4   Suspended  2845 non-null   float64       \n",
      " 5   O2         2858 non-null   float64       \n",
      " 6   NO3        2860 non-null   float64       \n",
      " 7   NO2        2858 non-null   float64       \n",
      " 8   SO4        2812 non-null   float64       \n",
      " 9   PO4        2833 non-null   float64       \n",
      " 10  CL         2812 non-null   float64       \n",
      "dtypes: datetime64[ns](1), float64(9), int64(1)\n",
      "memory usage: 246.0 KB\n"
     ]
    }
   ],
   "source": [
    " #convert date column to datetime format\n",
    "df['date'] = pd.to_datetime(df['date'], format='%d.%m.%Y')\n",
    "df.info() # print dataset info after conversion"
   ]
  },
  {
   "cell_type": "code",
   "execution_count": 18,
   "id": "d893edee-655f-48ad-9f47-ff3330eb12fa",
   "metadata": {},
   "outputs": [
    {
     "name": "stdout",
     "output_type": "stream",
     "text": [
      "   id       date    NH4  BSK5  Suspended     O2    NO3    NO2    SO4    PO4  \\\n",
      "0   1 2000-02-17  0.330  2.77       12.0  12.30   9.50  0.057  154.0  0.454   \n",
      "1   1 2000-05-11  0.044  3.00       51.6  14.61  17.75  0.034  352.0  0.090   \n",
      "2   1 2000-09-11  0.032  2.10       24.5   9.87  13.80  0.173  416.0  0.200   \n",
      "3   1 2000-12-13  0.170  2.23       35.6  12.40  17.13  0.099  275.2  0.377   \n",
      "4   1 2001-03-02  0.000  3.03       48.8  14.69  10.00  0.065  281.6  0.134   \n",
      "\n",
      "       CL  \n",
      "0   289.5  \n",
      "1  1792.0  \n",
      "2  2509.0  \n",
      "3  1264.0  \n",
      "4  1462.0  \n"
     ]
    }
   ],
   "source": [
    "df=df.sort_values(by=['id','date'])# sort values by id and date\n",
    "print(df.head())"
   ]
  },
  {
   "cell_type": "code",
   "execution_count": 20,
   "id": "e980fb61-511f-48fb-afdf-db5cc3242179",
   "metadata": {},
   "outputs": [
    {
     "name": "stdout",
     "output_type": "stream",
     "text": [
      "   id       date    NH4  BSK5  Suspended     O2    NO3    NO2    SO4    PO4  \\\n",
      "0   1 2000-02-17  0.330  2.77       12.0  12.30   9.50  0.057  154.0  0.454   \n",
      "1   1 2000-05-11  0.044  3.00       51.6  14.61  17.75  0.034  352.0  0.090   \n",
      "2   1 2000-09-11  0.032  2.10       24.5   9.87  13.80  0.173  416.0  0.200   \n",
      "3   1 2000-12-13  0.170  2.23       35.6  12.40  17.13  0.099  275.2  0.377   \n",
      "4   1 2001-03-02  0.000  3.03       48.8  14.69  10.00  0.065  281.6  0.134   \n",
      "\n",
      "       CL  year  month  \n",
      "0   289.5  2000      2  \n",
      "1  1792.0  2000      5  \n",
      "2  2509.0  2000      9  \n",
      "3  1264.0  2000     12  \n",
      "4  1462.0  2001      3  \n"
     ]
    }
   ],
   "source": [
    "df['year'] = df['date'].dt.year # extract year from date\n",
    "df['month'] = df['date'].dt.month # extract month from date\n",
    "print(df.head())"
   ]
  },
  {
   "cell_type": "code",
   "execution_count": 22,
   "id": "8da1091d-823f-43ff-9ed6-dae65c6af72e",
   "metadata": {},
   "outputs": [
    {
     "name": "stdout",
     "output_type": "stream",
     "text": [
      "Index(['id', 'date', 'NH4', 'BSK5', 'Suspended', 'O2', 'NO3', 'NO2', 'SO4',\n",
      "       'PO4', 'CL', 'year', 'month'],\n",
      "      dtype='object')\n",
      "['NH4', 'BSK5', 'Suspended', 'O2', 'NO3', 'NO2', 'SO4', 'PO4', 'CL', 'year']\n"
     ]
    }
   ],
   "source": [
    "print(df.columns)\n",
    "pollutants = ['NH4', 'BSK5', 'Suspended', 'O2', 'NO3', 'NO2', 'SO4', \n",
    "'PO4', 'CL', 'year']\n",
    "print(pollutants)"
   ]
  },
  {
   "cell_type": "code",
   "execution_count": null,
   "id": "a9e47c8a-14ce-47f9-860b-dce58910885b",
   "metadata": {},
   "outputs": [],
   "source": []
  }
 ],
 "metadata": {
  "kernelspec": {
   "display_name": "Python [conda env:base] *",
   "language": "python",
   "name": "conda-base-py"
  },
  "language_info": {
   "codemirror_mode": {
    "name": "ipython",
    "version": 3
   },
   "file_extension": ".py",
   "mimetype": "text/x-python",
   "name": "python",
   "nbconvert_exporter": "python",
   "pygments_lexer": "ipython3",
   "version": "3.11.5"
  }
 },
 "nbformat": 4,
 "nbformat_minor": 5
}
